{
  "cells": [
    {
      "cell_type": "markdown",
      "metadata": {
        "id": "a8kpWtrN3X6W"
      },
      "source": [
        "## 1. 사용할 패키지 불러오기"
      ]
    },
    {
      "cell_type": "code",
      "execution_count": 1,
      "metadata": {
        "id": "GPS6e1fd3ZJ6"
      },
      "outputs": [],
      "source": [
        "import os\n",
        "import pandas as pd\n",
        "import cv2\n",
        "import numpy as np\n",
        "from torchvision import transforms\n",
        "from sklearn.model_selection import train_test_split\n",
        "import torch\n",
        "from torch.utils.data import Dataset, DataLoader\n",
        "import torchvision.models as models\n",
        "from torch import nn\n",
        "import glob"
      ]
    },
    {
      "cell_type": "markdown",
      "metadata": {
        "id": "dQHmXe3Q3Zgf"
      },
      "source": [
        "## 2. 데이터 불러오기"
      ]
    },
    {
      "cell_type": "code",
      "execution_count": null,
      "metadata": {
        "id": "DigEMDp6DU9C"
      },
      "outputs": [],
      "source": [
        "from google.colab import drive\n",
        "drive.mount('/content/gdrive/')"
      ]
    },
    {
      "cell_type": "markdown",
      "metadata": {
        "id": "hbsamGWfDbkT"
      },
      "source": [
        "### (0) 압축 풀기"
      ]
    },
    {
      "cell_type": "code",
      "execution_count": 2,
      "metadata": {
        "colab": {
          "base_uri": "https://localhost:8080/"
        },
        "id": "4LgB86CrSRmY",
        "outputId": "445fe3d5-81c0-4684-8c08-0e02a43a66a8"
      },
      "outputs": [
        {
          "name": "stdout",
          "output_type": "stream",
          "text": [
            "/content/data\n"
          ]
        }
      ],
      "source": [
        "%cd /content/data"
      ]
    },
    {
      "cell_type": "code",
      "execution_count": 4,
      "metadata": {
        "colab": {
          "base_uri": "https://localhost:8080/"
        },
        "id": "Go6pMnRHDbDc",
        "outputId": "aa101106-648b-4ec4-bff5-bb076d4e4d15"
      },
      "outputs": [
        {
          "name": "stdout",
          "output_type": "stream",
          "text": [
            "/content/data\n"
          ]
        }
      ],
      "source": [
        "!unzip -qq \"/content/gdrive/MyDrive/Data_YW.zip\"\n",
        "!unzip -qq \"/content/data/OfficeImageFinal.zip\""
      ]
    },
    {
      "cell_type": "markdown",
      "metadata": {
        "id": "beC_Ik2n3sYP"
      },
      "source": [
        "### (1) 데이터 경로 정의"
      ]
    },
    {
      "cell_type": "code",
      "execution_count": 3,
      "metadata": {
        "id": "BYTu9z2e3al-"
      },
      "outputs": [],
      "source": [
        "xlsx_path = 'Office_Image_Aesthetic_Final.xlsx'\n",
        "image_path = './OfficeImageFinal/'"
      ]
    },
    {
      "cell_type": "markdown",
      "metadata": {
        "id": "JDQNkuzA3yC1"
      },
      "source": [
        "### (2) 평가 정보가 들어있는 xlsx 파일 불러오기"
      ]
    },
    {
      "cell_type": "code",
      "execution_count": 4,
      "metadata": {
        "colab": {
          "base_uri": "https://localhost:8080/",
          "height": 206
        },
        "id": "t5icGQwO3uM2",
        "outputId": "77f50d65-f0e8-47af-85e6-4752912c1849"
      },
      "outputs": [
        {
          "data": {
            "text/html": [
              "\n",
              "  <div id=\"df-715ea5aa-f90f-4d3f-9189-74a09d475da4\">\n",
              "    <div class=\"colab-df-container\">\n",
              "      <div>\n",
              "<style scoped>\n",
              "    .dataframe tbody tr th:only-of-type {\n",
              "        vertical-align: middle;\n",
              "    }\n",
              "\n",
              "    .dataframe tbody tr th {\n",
              "        vertical-align: top;\n",
              "    }\n",
              "\n",
              "    .dataframe thead th {\n",
              "        text-align: right;\n",
              "    }\n",
              "</style>\n",
              "<table border=\"1\" class=\"dataframe\">\n",
              "  <thead>\n",
              "    <tr style=\"text-align: right;\">\n",
              "      <th></th>\n",
              "      <th>no.</th>\n",
              "      <th>No.</th>\n",
              "      <th>building</th>\n",
              "      <th>address</th>\n",
              "      <th>평균</th>\n",
              "      <th>중앙값</th>\n",
              "      <th>Final1</th>\n",
              "      <th>Final2</th>\n",
              "      <th>Final3</th>\n",
              "    </tr>\n",
              "  </thead>\n",
              "  <tbody>\n",
              "    <tr>\n",
              "      <th>0</th>\n",
              "      <td>1.0</td>\n",
              "      <td>1.0</td>\n",
              "      <td>GFC(강남파이낸스센터)</td>\n",
              "      <td>서울특별시 강남구 역삼동 737</td>\n",
              "      <td>3.333333</td>\n",
              "      <td>4</td>\n",
              "      <td>4</td>\n",
              "      <td>2</td>\n",
              "      <td>4</td>\n",
              "    </tr>\n",
              "    <tr>\n",
              "      <th>1</th>\n",
              "      <td>2.0</td>\n",
              "      <td>3.0</td>\n",
              "      <td>포스코센터</td>\n",
              "      <td>서울특별시 강남구 대치동 892</td>\n",
              "      <td>3.666667</td>\n",
              "      <td>4</td>\n",
              "      <td>4</td>\n",
              "      <td>2</td>\n",
              "      <td>5</td>\n",
              "    </tr>\n",
              "    <tr>\n",
              "      <th>2</th>\n",
              "      <td>3.0</td>\n",
              "      <td>4.0</td>\n",
              "      <td>한화생명63빌딩(구,대한생명63빌딩)</td>\n",
              "      <td>서울특별시 영등포구 여의도동 60</td>\n",
              "      <td>3.333333</td>\n",
              "      <td>3</td>\n",
              "      <td>3</td>\n",
              "      <td>2</td>\n",
              "      <td>5</td>\n",
              "    </tr>\n",
              "    <tr>\n",
              "      <th>3</th>\n",
              "      <td>4.0</td>\n",
              "      <td>5.0</td>\n",
              "      <td>하이브랜드</td>\n",
              "      <td>서울특별시 서초구 양재동 215</td>\n",
              "      <td>3.666667</td>\n",
              "      <td>3</td>\n",
              "      <td>5</td>\n",
              "      <td>3</td>\n",
              "      <td>3</td>\n",
              "    </tr>\n",
              "    <tr>\n",
              "      <th>4</th>\n",
              "      <td>5.0</td>\n",
              "      <td>6.0</td>\n",
              "      <td>LG트윈타워</td>\n",
              "      <td>서울특별시 영등포구 여의도동 20</td>\n",
              "      <td>3</td>\n",
              "      <td>3</td>\n",
              "      <td>2</td>\n",
              "      <td>3</td>\n",
              "      <td>4</td>\n",
              "    </tr>\n",
              "  </tbody>\n",
              "</table>\n",
              "</div>\n",
              "      <button class=\"colab-df-convert\" onclick=\"convertToInteractive('df-715ea5aa-f90f-4d3f-9189-74a09d475da4')\"\n",
              "              title=\"Convert this dataframe to an interactive table.\"\n",
              "              style=\"display:none;\">\n",
              "        \n",
              "  <svg xmlns=\"http://www.w3.org/2000/svg\" height=\"24px\"viewBox=\"0 0 24 24\"\n",
              "       width=\"24px\">\n",
              "    <path d=\"M0 0h24v24H0V0z\" fill=\"none\"/>\n",
              "    <path d=\"M18.56 5.44l.94 2.06.94-2.06 2.06-.94-2.06-.94-.94-2.06-.94 2.06-2.06.94zm-11 1L8.5 8.5l.94-2.06 2.06-.94-2.06-.94L8.5 2.5l-.94 2.06-2.06.94zm10 10l.94 2.06.94-2.06 2.06-.94-2.06-.94-.94-2.06-.94 2.06-2.06.94z\"/><path d=\"M17.41 7.96l-1.37-1.37c-.4-.4-.92-.59-1.43-.59-.52 0-1.04.2-1.43.59L10.3 9.45l-7.72 7.72c-.78.78-.78 2.05 0 2.83L4 21.41c.39.39.9.59 1.41.59.51 0 1.02-.2 1.41-.59l7.78-7.78 2.81-2.81c.8-.78.8-2.07 0-2.86zM5.41 20L4 18.59l7.72-7.72 1.47 1.35L5.41 20z\"/>\n",
              "  </svg>\n",
              "      </button>\n",
              "      \n",
              "  <style>\n",
              "    .colab-df-container {\n",
              "      display:flex;\n",
              "      flex-wrap:wrap;\n",
              "      gap: 12px;\n",
              "    }\n",
              "\n",
              "    .colab-df-convert {\n",
              "      background-color: #E8F0FE;\n",
              "      border: none;\n",
              "      border-radius: 50%;\n",
              "      cursor: pointer;\n",
              "      display: none;\n",
              "      fill: #1967D2;\n",
              "      height: 32px;\n",
              "      padding: 0 0 0 0;\n",
              "      width: 32px;\n",
              "    }\n",
              "\n",
              "    .colab-df-convert:hover {\n",
              "      background-color: #E2EBFA;\n",
              "      box-shadow: 0px 1px 2px rgba(60, 64, 67, 0.3), 0px 1px 3px 1px rgba(60, 64, 67, 0.15);\n",
              "      fill: #174EA6;\n",
              "    }\n",
              "\n",
              "    [theme=dark] .colab-df-convert {\n",
              "      background-color: #3B4455;\n",
              "      fill: #D2E3FC;\n",
              "    }\n",
              "\n",
              "    [theme=dark] .colab-df-convert:hover {\n",
              "      background-color: #434B5C;\n",
              "      box-shadow: 0px 1px 3px 1px rgba(0, 0, 0, 0.15);\n",
              "      filter: drop-shadow(0px 1px 2px rgba(0, 0, 0, 0.3));\n",
              "      fill: #FFFFFF;\n",
              "    }\n",
              "  </style>\n",
              "\n",
              "      <script>\n",
              "        const buttonEl =\n",
              "          document.querySelector('#df-715ea5aa-f90f-4d3f-9189-74a09d475da4 button.colab-df-convert');\n",
              "        buttonEl.style.display =\n",
              "          google.colab.kernel.accessAllowed ? 'block' : 'none';\n",
              "\n",
              "        async function convertToInteractive(key) {\n",
              "          const element = document.querySelector('#df-715ea5aa-f90f-4d3f-9189-74a09d475da4');\n",
              "          const dataTable =\n",
              "            await google.colab.kernel.invokeFunction('convertToInteractive',\n",
              "                                                     [key], {});\n",
              "          if (!dataTable) return;\n",
              "\n",
              "          const docLinkHtml = 'Like what you see? Visit the ' +\n",
              "            '<a target=\"_blank\" href=https://colab.research.google.com/notebooks/data_table.ipynb>data table notebook</a>'\n",
              "            + ' to learn more about interactive tables.';\n",
              "          element.innerHTML = '';\n",
              "          dataTable['output_type'] = 'display_data';\n",
              "          await google.colab.output.renderOutput(dataTable, element);\n",
              "          const docLink = document.createElement('div');\n",
              "          docLink.innerHTML = docLinkHtml;\n",
              "          element.appendChild(docLink);\n",
              "        }\n",
              "      </script>\n",
              "    </div>\n",
              "  </div>\n",
              "  "
            ],
            "text/plain": [
              "   no.  No.              building             address        평균 중앙값 Final1  \\\n",
              "0  1.0  1.0         GFC(강남파이낸스센터)   서울특별시 강남구 역삼동 737  3.333333   4      4   \n",
              "1  2.0  3.0                 포스코센터   서울특별시 강남구 대치동 892  3.666667   4      4   \n",
              "2  3.0  4.0  한화생명63빌딩(구,대한생명63빌딩)  서울특별시 영등포구 여의도동 60  3.333333   3      3   \n",
              "3  4.0  5.0                 하이브랜드   서울특별시 서초구 양재동 215  3.666667   3      5   \n",
              "4  5.0  6.0                LG트윈타워  서울특별시 영등포구 여의도동 20         3   3      2   \n",
              "\n",
              "  Final2 Final3  \n",
              "0      2      4  \n",
              "1      2      5  \n",
              "2      2      5  \n",
              "3      3      3  \n",
              "4      3      4  "
            ]
          },
          "execution_count": 4,
          "metadata": {},
          "output_type": "execute_result"
        }
      ],
      "source": [
        "score = pd.read_excel(xlsx_path)\n",
        "score.columns = ['no.', 'No.', 'building', 'address', '평균', '중앙값', 'Final1', 'Final2', 'Final3']\n",
        "score = score.iloc[1:, :].reset_index(drop = True)\n",
        "score.head()"
      ]
    },
    {
      "cell_type": "markdown",
      "metadata": {
        "id": "z764CbCG4Drn"
      },
      "source": [
        "### (3) 사용할 Score 정의하기 [평균, 중앙값, Final1, Final2, Final3]"
      ]
    },
    {
      "cell_type": "code",
      "execution_count": 5,
      "metadata": {
        "id": "UV-ZBi654U17"
      },
      "outputs": [],
      "source": [
        "score_column = \"평균\"\n",
        "label = score[score_column]"
      ]
    },
    {
      "cell_type": "markdown",
      "metadata": {
        "id": "gqT2Q8qE4eTx"
      },
      "source": [
        "### (4) 이미지 파일 리스트 불러오기"
      ]
    },
    {
      "cell_type": "code",
      "execution_count": 6,
      "metadata": {
        "id": "H53UnRO-4d3e"
      },
      "outputs": [],
      "source": [
        "filelist = glob.glob(image_path + '/*.png')"
      ]
    },
    {
      "cell_type": "markdown",
      "metadata": {
        "id": "JmxpYYR94qTV"
      },
      "source": [
        "### (5) 각 이미지 번호에 해당하는 라벨 값 할당하기 (-로 split할 때 첫번째부분이 이미지번호)"
      ]
    },
    {
      "cell_type": "code",
      "execution_count": 8,
      "metadata": {
        "id": "D4vXFZqu4406"
      },
      "outputs": [],
      "source": [
        "label = [label[int(file.split('/')[-1].split('-')[0]) - 1] for file in filelist]"
      ]
    },
    {
      "cell_type": "markdown",
      "metadata": {
        "id": "xzrrFd-w5Nuy"
      },
      "source": [
        "## 3. Pytorch Datagenerator 생성"
      ]
    },
    {
      "cell_type": "markdown",
      "metadata": {
        "id": "Z6GBouNA5WIJ"
      },
      "source": [
        "### (1) CNN 모델의 Input size인 (224,224,3) 으로 Image Resize"
      ]
    },
    {
      "cell_type": "code",
      "execution_count": 10,
      "metadata": {
        "id": "OtHHR_Tr5RFp"
      },
      "outputs": [],
      "source": [
        "transform_dict = {\n",
        "    'train': transforms.Compose([\n",
        "        transforms.ToPILImage(),\n",
        "        transforms.Resize(256),\n",
        "        transforms.RandomResizedCrop(224),\n",
        "        transforms.RandomHorizontalFlip(),\n",
        "        transforms.ToTensor(),\n",
        "        transforms.Normalize([0.485, 0.456, 0.406], [0.229, 0.224, 0.225])\n",
        "    ]),\n",
        "    'valid': transforms.Compose([\n",
        "        transforms.ToPILImage(),\n",
        "        transforms.Resize(256),\n",
        "        transforms.CenterCrop(224),\n",
        "        transforms.ToTensor(),\n",
        "        transforms.Normalize([0.485, 0.456, 0.406], [0.229, 0.224, 0.225])\n",
        "    ]),\n",
        "    'test': transforms.Compose([\n",
        "        transforms.ToPILImage(),\n",
        "        transforms.Resize(256),\n",
        "        transforms.CenterCrop(224),\n",
        "        transforms.ToTensor(),\n",
        "        transforms.Normalize([0.485, 0.456, 0.406], [0.229, 0.224, 0.225])\n",
        "    ])\n",
        "}"
      ]
    },
    {
      "cell_type": "markdown",
      "metadata": {
        "id": "PEDvZULG5uPq"
      },
      "source": [
        "### (2) Torch Dataset 생성"
      ]
    },
    {
      "cell_type": "code",
      "execution_count": 11,
      "metadata": {
        "id": "Lgro3-w35wqt"
      },
      "outputs": [],
      "source": [
        "class ConstructDataset(Dataset):\n",
        "    \"\"\"\n",
        "    Construct pytorch Dataset from file list.\n",
        "\n",
        "    Parameters\n",
        "    ----------\n",
        "    file_list : list\n",
        "        image file list\n",
        "    target_list : list\n",
        "        target list\n",
        "    phase : str\n",
        "        train phase. (Default: 'train')\n",
        "\n",
        "    Returns\n",
        "    --------\n",
        "    pytorch Dataset\n",
        "    \"\"\"\n",
        "\n",
        "    def __init__(self, file_list, labels, phase = 'train'):\n",
        "        self.file_list = file_list\n",
        "        self.labels = labels\n",
        "        self.phase = phase\n",
        "\n",
        "    def __len__(self):\n",
        "        return len(self.file_list)\n",
        "\n",
        "    def __getitem__(self, index):\n",
        "        file_name = self.file_list[index]\n",
        "        target_label = self.labels[index]\n",
        "        image = cv2.imread(file_name)\n",
        "        image = transform_dict[self.phase](image)\n",
        "        return {'image': image, 'target': target_label}"
      ]
    },
    {
      "cell_type": "markdown",
      "metadata": {
        "id": "v2L-tPRR6VFP"
      },
      "source": [
        "### (3) Pytorch Datagenerator 생성"
      ]
    },
    {
      "cell_type": "code",
      "execution_count": 12,
      "metadata": {
        "id": "vGgqkZsN6aUe"
      },
      "outputs": [],
      "source": [
        "class dataset_generator(object):\n",
        "    \"\"\"\n",
        "    Construct pytorch DataLoader from file list.\n",
        "\n",
        "    Parameters\n",
        "    ----------\n",
        "    file_list : list\n",
        "        image file list\n",
        "    target_list : list\n",
        "        target list\n",
        "    batch_size : int\n",
        "        batch size. (Default: 16)\n",
        "    phase : str\n",
        "        train phase. (Default: 'train')\n",
        "    train_valid_split : bool\n",
        "        whether to split data with train and validation. (Default: False)  \n",
        "    valid_ratio : float\n",
        "        validation ratio. (Default: 0.2) \n",
        "    random_seed : int\n",
        "        random seed number (Default: 1004)  \n",
        "\n",
        "    Returns\n",
        "    --------\n",
        "    pytorch DataLoader\n",
        "    \"\"\"\n",
        "    def __init__(self, file_list, target_list, batch_size = 16, phase = 'train', train_valid_split = False, valid_ratio = 0.2, random_seed = 1004):\n",
        "        self.file_list = file_list\n",
        "        self.target_list = target_list\n",
        "        self.batch_size = batch_size\n",
        "        self.phase = phase\n",
        "        self.train_valid_split = train_valid_split\n",
        "        self.valid_ratio = valid_ratio\n",
        "        self.random_seed = random_seed\n",
        "\n",
        "    def dataloader(self):\n",
        "\n",
        "        if self.phase == 'train':\n",
        "            if self.train_valid_split:\n",
        "                train_file_list, valid_file_list, train_target_list, valid_target_list = train_test_split(self.file_list, \n",
        "                                                                                        self.target_list, \n",
        "                                                                                        test_size=self.valid_ratio, \n",
        "                                                                                        random_state=self.random_seed)\n",
        "                \n",
        "                train_dataset = ConstructDataset(train_file_list, train_target_list, phase = 'train')\n",
        "                valid_dataset = ConstructDataset(valid_file_list, valid_target_list, phase = 'valid')\n",
        "\n",
        "                return dict({'train': DataLoader(train_dataset, batch_size=self.batch_size, shuffle=True),\n",
        "                            'valid': DataLoader(valid_dataset, batch_size=self.batch_size, shuffle=False)})\n",
        "\n",
        "\n",
        "            else:\n",
        "                train_dataset = ConstructDataset(self.file_list, self.target_list, phase = 'train')\n",
        "                return dict({'train': DataLoader(train_dataset, batch_size=self.batch_size, shuffle=True)})\n",
        "        \n",
        "        else:\n",
        "            test_dataset = ConstructDataset(self.file_list, self.target_list, phase = self.phase)\n",
        "            return dict({'test': DataLoader(test_dataset, batch_size=self.batch_size, shuffle=False)})"
      ]
    },
    {
      "cell_type": "code",
      "execution_count": 13,
      "metadata": {
        "id": "FHVyENmJI2au"
      },
      "outputs": [],
      "source": [
        "batch_size = 4"
      ]
    },
    {
      "cell_type": "code",
      "execution_count": 14,
      "metadata": {
        "id": "iVR56J60ImfK"
      },
      "outputs": [],
      "source": [
        "image_dataset_generator = dataset_generator(filelist, label, batch_size=batch_size, phase= 'train', train_valid_split= True, valid_ratio=0.2, random_seed=1004)\n",
        "dataloader = image_dataset_generator.dataloader()"
      ]
    },
    {
      "cell_type": "markdown",
      "metadata": {
        "id": "PSQPVATr6xWG"
      },
      "source": [
        "## 4. Pytorch Pretrained Model 불러오기"
      ]
    },
    {
      "cell_type": "markdown",
      "metadata": {
        "id": "2rhcwbdA63Xy"
      },
      "source": [
        "사용 가능 모델: ['Efficientnet_b0 ~ b7', 'resnet', 'mobilenetv2']"
      ]
    },
    {
      "cell_type": "code",
      "execution_count": 73,
      "metadata": {
        "colab": {
          "base_uri": "https://localhost:8080/"
        },
        "id": "2Pra-uZO61SC",
        "outputId": "5b604fcf-5e40-4c22-8cef-67463529a5b1"
      },
      "outputs": [
        {
          "name": "stderr",
          "output_type": "stream",
          "text": [
            "/usr/local/lib/python3.7/dist-packages/torchvision/models/_utils.py:209: UserWarning: The parameter 'pretrained' is deprecated since 0.13 and will be removed in 0.15, please use 'weights' instead.\n",
            "  f\"The parameter '{pretrained_param}' is deprecated since 0.13 and will be removed in 0.15, \"\n",
            "/usr/local/lib/python3.7/dist-packages/torchvision/models/_utils.py:223: UserWarning: Arguments other than a weight enum or `None` for 'weights' are deprecated since 0.13 and will be removed in 0.15. The current behavior is equivalent to passing `weights=EfficientNet_B7_Weights.IMAGENET1K_V1`. You can also use `weights=EfficientNet_B7_Weights.DEFAULT` to get the most up-to-date weights.\n",
            "  warnings.warn(msg)\n"
          ]
        }
      ],
      "source": [
        "model = models.efficientnet_b7(pretrained='imagenet')\n",
        "# model = models.resnet50(pretrained='imagenet')\n",
        "# model = models.MobileNetV2(pretrained='imagenet')"
      ]
    },
    {
      "cell_type": "markdown",
      "metadata": {
        "id": "Zae8o_9mJQFy"
      },
      "source": [
        "## 5. Embedding Layer와 Prediction Layer 추가하기"
      ]
    },
    {
      "cell_type": "markdown",
      "metadata": {
        "id": "tz32gSbWLVV_"
      },
      "source": [
        "### (1) Embedding 차원 정의"
      ]
    },
    {
      "cell_type": "code",
      "execution_count": 74,
      "metadata": {
        "id": "3MjlplPRLS6O"
      },
      "outputs": [],
      "source": [
        "embedding_dimension = 64"
      ]
    },
    {
      "cell_type": "markdown",
      "metadata": {
        "id": "fcvGwBYQLYX1"
      },
      "source": [
        "### (2) Embedding Layer"
      ]
    },
    {
      "cell_type": "code",
      "execution_count": 75,
      "metadata": {
        "id": "tjC4ylrAJQZc"
      },
      "outputs": [],
      "source": [
        "embedding_part = nn.Sequential(nn.Sequential(nn.Linear(1000, embedding_dimension, bias=True), \n",
        "                               nn.ReLU()))"
      ]
    },
    {
      "cell_type": "markdown",
      "metadata": {
        "id": "feNpYYuKSYlb"
      },
      "source": [
        "### (3) Prediction Layer"
      ]
    },
    {
      "cell_type": "code",
      "execution_count": 76,
      "metadata": {
        "id": "7rMnF373SXAg"
      },
      "outputs": [],
      "source": [
        "prediction_part = nn.Sequential(nn.Sequential(nn.Linear(embedding_dimension, 1, bias=True)))"
      ]
    },
    {
      "cell_type": "markdown",
      "metadata": {
        "id": "yw7hIJSdShGc"
      },
      "source": [
        "### (4) 합치기"
      ]
    },
    {
      "cell_type": "code",
      "execution_count": 77,
      "metadata": {
        "id": "gROcm8amSfiz"
      },
      "outputs": [],
      "source": [
        "embedding_model = nn.Sequential(model, embedding_part, prediction_part)"
      ]
    },
    {
      "cell_type": "markdown",
      "metadata": {
        "id": "dpHNi9mQTB51"
      },
      "source": [
        "## 6. Loss 및 Optimizer"
      ]
    },
    {
      "cell_type": "code",
      "execution_count": 78,
      "metadata": {
        "id": "Vw9qmod0TGSW"
      },
      "outputs": [],
      "source": [
        "learning_rate = 0.001"
      ]
    },
    {
      "cell_type": "code",
      "execution_count": 79,
      "metadata": {
        "id": "SdiAU0LxSiYw"
      },
      "outputs": [],
      "source": [
        "from torch.optim import Adam\n",
        "loss_fun = nn.MSELoss()\n",
        "optimizer = Adam(params = embedding_model.parameters(),\n",
        "                        lr=learning_rate)"
      ]
    },
    {
      "cell_type": "markdown",
      "metadata": {
        "id": "xy4sjt6KTOR3"
      },
      "source": [
        "## 7. Train"
      ]
    },
    {
      "cell_type": "code",
      "execution_count": 80,
      "metadata": {
        "id": "w2IKpVMqTJZe"
      },
      "outputs": [],
      "source": [
        "epochs = 3"
      ]
    },
    {
      "cell_type": "code",
      "execution_count": 81,
      "metadata": {
        "colab": {
          "base_uri": "https://localhost:8080/"
        },
        "id": "WXp-No-5TQsh",
        "outputId": "b1d9e0f3-8409-4c6d-f9b7-e237261fb8a7"
      },
      "outputs": [
        {
          "name": "stderr",
          "output_type": "stream",
          "text": [
            "/usr/local/lib/python3.7/dist-packages/torch/nn/modules/loss.py:530: UserWarning: Using a target size (torch.Size([4])) that is different to the input size (torch.Size([4, 1])). This will likely lead to incorrect results due to broadcasting. Please ensure they have the same size.\n",
            "  return F.mse_loss(input, target, reduction=self.reduction)\n",
            "/usr/local/lib/python3.7/dist-packages/torch/nn/modules/loss.py:530: UserWarning: Using a target size (torch.Size([2])) that is different to the input size (torch.Size([2, 1])). This will likely lead to incorrect results due to broadcasting. Please ensure they have the same size.\n",
            "  return F.mse_loss(input, target, reduction=self.reduction)\n"
          ]
        },
        {
          "name": "stdout",
          "output_type": "stream",
          "text": [
            "Epoch 1 \t Training Loss: 1.0844447959721442, Validation Loss: 0.010094883830048317\n",
            "Validation Loss Decreased(inf--->0.434080) \t Saving The Model\n",
            "Epoch 2 \t Training Loss: 0.4602694897388918, Validation Loss: 0.00013135659486748452\n",
            "Validation Loss Decreased(0.434080--->0.005648) \t Saving The Model\n",
            "Epoch 3 \t Training Loss: 0.5494071433331663, Validation Loss: 0.014559921830199486\n"
          ]
        }
      ],
      "source": [
        "# gpu setting\n",
        "device = torch.device(\"cuda:0\" if torch.cuda.is_available() else \"cpu\")\n",
        "embedding_model.to(device)\n",
        "\n",
        "\n",
        "min_valid_loss = np.inf\n",
        "\n",
        "# training\n",
        "        \n",
        "for e in range(epochs):\n",
        "    train_loss = 0.0\n",
        "    embedding_model.train()     # Optional when not using Model Specific layer\n",
        "    for data in dataloader['train']:\n",
        "        if torch.cuda.is_available():\n",
        "            images, labels = data['image'].float().to(device), data['target'].float().to(device)\n",
        "        \n",
        "        optimizer.zero_grad()\n",
        "        target = embedding_model(images)\n",
        "        loss = loss_fun(target, labels)\n",
        "        loss.backward()\n",
        "        optimizer.step()\n",
        "        train_loss += loss.item()\n",
        "            \n",
        "    valid_loss = 0.0\n",
        "    embedding_model.eval()     # Optional when not using Model Specific layer\n",
        "    for data in dataloader['valid']:\n",
        "        if torch.cuda.is_available():\n",
        "            data, labels = data['image'].float().to(device), data['target'].float().to(device)\n",
        "        \n",
        "        target = embedding_model(data)\n",
        "        loss = loss_fun(target, labels)\n",
        "        valid_loss = loss.item() * data.size(0)\n",
        "        \n",
        "\n",
        "    print('Epoch {} \\t Training Loss: {}, Validation Loss: {}'.format(e+1, train_loss / len(dataloader['train']), valid_loss / len(dataloader['valid'])))\n",
        "\n",
        "    # Saving Best model (valid_loss 최소)\n",
        "    if min_valid_loss > valid_loss:\n",
        "        print(f'Validation Loss Decreased({min_valid_loss:.6f}--->{valid_loss:.6f}) \\t Saving The Model')\n",
        "        min_valid_loss = valid_loss\n",
        "        torch.save(embedding_model, 'Best_model.pt')\n"
      ]
    },
    {
      "cell_type": "markdown",
      "metadata": {
        "id": "SYLIuBvtWs58"
      },
      "source": [
        "## 8. Load Best Model"
      ]
    },
    {
      "cell_type": "code",
      "execution_count": 33,
      "metadata": {
        "id": "pTzxlay0TtNV"
      },
      "outputs": [],
      "source": [
        "prediction_model = torch.load('Best_model.pt')"
      ]
    },
    {
      "cell_type": "markdown",
      "metadata": {
        "id": "1sdm4yltXA96"
      },
      "source": [
        "## 9. Observe Embedding Feature and Score"
      ]
    },
    {
      "cell_type": "markdown",
      "metadata": {
        "id": "CwY7TpQCYD6Q"
      },
      "source": [
        "### (1) Test Image 불러오기"
      ]
    },
    {
      "cell_type": "code",
      "execution_count": 29,
      "metadata": {
        "id": "ItuPqMMBXAY-"
      },
      "outputs": [],
      "source": [
        "image = '/content/data/OfficeImageFinal/1-1-kakao-face-2004.png'\n",
        "true_label = label[int(image.split('/')[-1].split('-')[0]) - 1]\n",
        "image = cv2.imread(image)\n",
        "image = transform_dict['test'](image)\n",
        "image = image.reshape([1, 3, 224, 224]).float().to(device)"
      ]
    },
    {
      "cell_type": "markdown",
      "metadata": {
        "id": "RgWqVjn3YGi6"
      },
      "source": [
        "### (2) Embedding Part 불러오기"
      ]
    },
    {
      "cell_type": "code",
      "execution_count": 63,
      "metadata": {
        "id": "ujzQPisOXuOp"
      },
      "outputs": [],
      "source": [
        "embedding_model = prediction_model[:-1]"
      ]
    },
    {
      "cell_type": "markdown",
      "metadata": {
        "id": "j32rzeoXZxvT"
      },
      "source": [
        "### (3) Observe Embedding Feature"
      ]
    },
    {
      "cell_type": "code",
      "execution_count": 68,
      "metadata": {
        "colab": {
          "base_uri": "https://localhost:8080/"
        },
        "id": "hOPv51M9Zeey",
        "outputId": "b8e14ba7-43ad-4374-d477-67e588f6b9f8"
      },
      "outputs": [
        {
          "data": {
            "text/plain": [
              "tensor([[0.0000, 3.4533, 0.0000, 0.0000, 0.0000, 0.0000, 0.0000, 1.6599, 0.0000,\n",
              "         0.0000, 2.3546, 0.0000, 1.3891, 3.7333, 1.4503, 1.8853, 0.0000, 0.0000,\n",
              "         0.0000, 0.0000, 0.0000, 0.0000, 0.0000, 0.4586, 3.0327, 0.0000, 0.0000,\n",
              "         0.3753, 0.0000, 0.0000, 0.0000, 0.0000, 2.8689, 0.0000, 0.4947, 2.4318,\n",
              "         0.0000, 0.0000, 2.3989, 0.7021, 0.0000, 0.7264, 0.0000, 0.0000, 0.0000,\n",
              "         3.5740, 0.0000, 0.0000, 0.0000, 0.0000, 0.0000, 0.0000, 0.0000, 0.0000,\n",
              "         0.0000, 0.0000, 0.0000, 2.2233, 0.0000, 0.0000, 0.0000, 0.0000, 0.0000,\n",
              "         2.2297]], device='cuda:0', grad_fn=<ReluBackward0>)"
            ]
          },
          "execution_count": 68,
          "metadata": {},
          "output_type": "execute_result"
        }
      ],
      "source": [
        "embedding_model(image)"
      ]
    },
    {
      "cell_type": "markdown",
      "metadata": {
        "id": "4CM7isxWZ2qW"
      },
      "source": [
        "### (4) Prediction of Score"
      ]
    },
    {
      "cell_type": "code",
      "execution_count": 70,
      "metadata": {
        "colab": {
          "base_uri": "https://localhost:8080/"
        },
        "id": "JMsAQxiQZrq4",
        "outputId": "b3760bab-ca07-4688-a5a3-fa0f7d9c0c92"
      },
      "outputs": [
        {
          "name": "stdout",
          "output_type": "stream",
          "text": [
            "Ground Truth: 2.6666666666666665\n",
            "Ground Truth: 2.9643917083740234\n"
          ]
        }
      ],
      "source": [
        "print('Ground Truth: {}'.format(true_label))\n",
        "print('Prediction: {}'.format(prediction_model(image).item()))"
      ]
    }
  ],
  "metadata": {
    "accelerator": "GPU",
    "colab": {
      "collapsed_sections": [],
      "name": "Image embedding.ipynb",
      "provenance": []
    },
    "gpuClass": "standard",
    "kernelspec": {
      "display_name": "Python 3",
      "name": "python3"
    },
    "language_info": {
      "name": "python"
    }
  },
  "nbformat": 4,
  "nbformat_minor": 0
}
